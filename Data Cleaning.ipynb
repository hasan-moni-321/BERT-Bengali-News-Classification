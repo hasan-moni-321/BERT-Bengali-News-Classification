{
 "cells": [
  {
   "cell_type": "code",
   "execution_count": 5,
   "metadata": {},
   "outputs": [],
   "source": [
    "import pandas as pd\n",
    "import string, re, os "
   ]
  },
  {
   "cell_type": "code",
   "execution_count": 6,
   "metadata": {},
   "outputs": [
    {
     "data": {
      "text/html": [
       "<div>\n",
       "<style scoped>\n",
       "    .dataframe tbody tr th:only-of-type {\n",
       "        vertical-align: middle;\n",
       "    }\n",
       "\n",
       "    .dataframe tbody tr th {\n",
       "        vertical-align: top;\n",
       "    }\n",
       "\n",
       "    .dataframe thead th {\n",
       "        text-align: right;\n",
       "    }\n",
       "</style>\n",
       "<table border=\"1\" class=\"dataframe\">\n",
       "  <thead>\n",
       "    <tr style=\"text-align: right;\">\n",
       "      <th></th>\n",
       "      <th>author</th>\n",
       "      <th>category</th>\n",
       "      <th>category_bn</th>\n",
       "      <th>published_date</th>\n",
       "      <th>modification_date</th>\n",
       "      <th>tag</th>\n",
       "      <th>comment_count</th>\n",
       "      <th>title</th>\n",
       "      <th>url</th>\n",
       "      <th>content</th>\n",
       "    </tr>\n",
       "  </thead>\n",
       "  <tbody>\n",
       "    <tr>\n",
       "      <th>0</th>\n",
       "      <td>গাজীপুর প্রতিনিধি</td>\n",
       "      <td>bangladesh</td>\n",
       "      <td>বাংলাদেশ</td>\n",
       "      <td>০৪ জুলাই ২০১৩, ২৩:২৬</td>\n",
       "      <td>০৪ জুলাই ২০১৩, ২৩:২৭</td>\n",
       "      <td>['গাজীপুর']</td>\n",
       "      <td>0</td>\n",
       "      <td>কালিয়াকৈরে টিফিন খেয়ে ৫০০ শ্রমিক অসুস্থ, বিক...</td>\n",
       "      <td>http://www.prothom-alo.com/bangladesh/article/...</td>\n",
       "      <td>গাজীপুরের কালিয়াকৈর উপজেলার তেলিরচালা এলাকায়...</td>\n",
       "    </tr>\n",
       "    <tr>\n",
       "      <th>1</th>\n",
       "      <td>অনলাইন ডেস্ক</td>\n",
       "      <td>sports</td>\n",
       "      <td>খেলা</td>\n",
       "      <td>০৪ জুলাই ২০১৩, ২৩:০৯</td>\n",
       "      <td>০৪ জুলাই ২০১৩, ২৩:১১</td>\n",
       "      <td>['টেনিস']</td>\n",
       "      <td>0</td>\n",
       "      <td>সেমিফাইনাল বাধাও পেরিয়ে গেলেন লিসিকি</td>\n",
       "      <td>http://www.prothom-alo.com/sports/article/19028</td>\n",
       "      <td>এবারের উইম্বলডনটা স্মরণীয় করে রাখার মিশনেই যে...</td>\n",
       "    </tr>\n",
       "    <tr>\n",
       "      <th>2</th>\n",
       "      <td>নিজস্ব প্রতিবেদক</td>\n",
       "      <td>bangladesh</td>\n",
       "      <td>বাংলাদেশ</td>\n",
       "      <td>০৪ জুলাই ২০১৩, ২২:২৫</td>\n",
       "      <td>০৪ জুলাই ২০১৩, ২৩:১২</td>\n",
       "      <td>['রাজনীতি']</td>\n",
       "      <td>0</td>\n",
       "      <td>সংসদে খালেদার অভিযোগের জবাব দিয়েছে ভারত</td>\n",
       "      <td>http://www.prothom-alo.com/bangladesh/article/...</td>\n",
       "      <td>জাতীয় সংসদে বিএনপি চেয়ারপারসন ও বিরোধীদলীয় ...</td>\n",
       "    </tr>\n",
       "  </tbody>\n",
       "</table>\n",
       "</div>"
      ],
      "text/plain": [
       "              author    category category_bn        published_date  \\\n",
       "0  গাজীপুর প্রতিনিধি  bangladesh    বাংলাদেশ  ০৪ জুলাই ২০১৩, ২৩:২৬   \n",
       "1       অনলাইন ডেস্ক      sports        খেলা  ০৪ জুলাই ২০১৩, ২৩:০৯   \n",
       "2   নিজস্ব প্রতিবেদক  bangladesh    বাংলাদেশ  ০৪ জুলাই ২০১৩, ২২:২৫   \n",
       "\n",
       "      modification_date          tag comment_count  \\\n",
       "0  ০৪ জুলাই ২০১৩, ২৩:২৭  ['গাজীপুর']             0   \n",
       "1  ০৪ জুলাই ২০১৩, ২৩:১১    ['টেনিস']             0   \n",
       "2  ০৪ জুলাই ২০১৩, ২৩:১২  ['রাজনীতি']             0   \n",
       "\n",
       "                                               title  \\\n",
       "0  কালিয়াকৈরে টিফিন খেয়ে ৫০০ শ্রমিক অসুস্থ, বিক...   \n",
       "1              সেমিফাইনাল বাধাও পেরিয়ে গেলেন লিসিকি   \n",
       "2           সংসদে খালেদার অভিযোগের জবাব দিয়েছে ভারত   \n",
       "\n",
       "                                                 url  \\\n",
       "0  http://www.prothom-alo.com/bangladesh/article/...   \n",
       "1    http://www.prothom-alo.com/sports/article/19028   \n",
       "2  http://www.prothom-alo.com/bangladesh/article/...   \n",
       "\n",
       "                                             content  \n",
       "0  গাজীপুরের কালিয়াকৈর উপজেলার তেলিরচালা এলাকায়...  \n",
       "1  এবারের উইম্বলডনটা স্মরণীয় করে রাখার মিশনেই যে...  \n",
       "2  জাতীয় সংসদে বিএনপি চেয়ারপারসন ও বিরোধীদলীয় ...  "
      ]
     },
     "execution_count": 6,
     "metadata": {},
     "output_type": "execute_result"
    }
   ],
   "source": [
    "data = pd.read_csv(\"/home/hasan/Desktop/Code to keep on Github/BERT Bengali News Classification/json_to_csv_file.csv\")\n",
    "data.head(3)"
   ]
  },
  {
   "cell_type": "code",
   "execution_count": 7,
   "metadata": {},
   "outputs": [
    {
     "data": {
      "text/plain": [
       "(437953, 10)"
      ]
     },
     "execution_count": 7,
     "metadata": {},
     "output_type": "execute_result"
    }
   ],
   "source": [
    "data.shape"
   ]
  },
  {
   "cell_type": "code",
   "execution_count": null,
   "metadata": {},
   "outputs": [],
   "source": []
  },
  {
   "cell_type": "markdown",
   "metadata": {},
   "source": [
    "## Cleaning Dataset"
   ]
  },
  {
   "cell_type": "code",
   "execution_count": 9,
   "metadata": {},
   "outputs": [
    {
     "name": "stdout",
     "output_type": "stream",
     "text": [
      "['অতএব', 'অথচ', 'অথবা', 'অনুযায়ী', 'অনেক', 'অনেকে', 'অনেকেই', 'অন্তত', 'অন্য', 'অবধি', 'অবশ্য', 'অর্থাত', 'আই', 'আগামী', 'আগে', 'আগেই', 'আছে', 'আজ', 'আদ্যভাগে', 'আপনার', 'আপনি', 'আবার', 'আমরা', 'আমাকে', 'আমাদের', 'আমার', 'আমি', 'আর', 'আরও', 'ই', 'ইত্যাদি', 'ইহা', 'উচিত', 'উত্তর', 'উনি', 'উপর', 'উপরে', 'এ', 'এঁদের', 'এঁরা', 'এই', 'একই', 'একটি', 'একবার', 'একে', 'এক্', 'এখন', 'এখনও', 'এখানে', 'এখানেই', 'এটা', 'এটাই', 'এটি', 'এত', 'এতটাই', 'এতে', 'এদের', 'এব', 'এবং', 'এবার', 'এমন', 'এমনকী', 'এমনি', 'এর', 'এরা', 'এল', 'এস', 'এসে', 'ঐ', 'ও', 'ওঁদের', 'ওঁর', 'ওঁরা', 'ওই', 'ওকে', 'ওখানে', 'ওদের', 'ওর', 'ওরা', 'কখনও', 'কত', 'কবে', 'কমনে', 'কয়েক', 'কয়েকটি', 'করছে', 'করছেন', 'করতে', 'করবে', 'করবেন', 'করলে', 'করলেন', 'করা', 'করাই', 'করায়', 'করার', 'করি', 'করিতে', 'করিয়া', 'করিয়ে', 'করে', 'করেই', 'করেছিলেন', 'করেছে', 'করেছেন', 'করেন', 'কাউকে', 'কাছ', 'কাছে', 'কাজ', 'কাজে', 'কারও', 'কারণ', 'কি', 'কিংবা', 'কিছু', 'কিছুই', 'কিন্তু', 'কী', 'কে', 'কেউ', 'কেউই', 'কেখা', 'কেন', 'কোটি', 'কোন', 'কোনও', 'কোনো', 'ক্ষেত্রে', 'কয়েক', 'খুব', 'গিয়ে', 'গিয়েছে', 'গিয়ে', 'গুলি', 'গেছে', 'গেল', 'গেলে', 'গোটা', 'চলে', 'চান', 'চায়', 'চার', 'চালু', 'চেয়ে', 'চেষ্টা', 'ছাড়া', 'ছাড়াও', 'ছিল', 'ছিলেন', 'জন', 'জনকে', 'জনের', 'জন্য', 'জন্যওজে', 'জানতে', 'জানা', 'জানানো', 'জানায়', 'জানিয়ে', 'জানিয়েছে', 'জে', 'জ্নজন', 'টি', 'ঠিক', 'তখন', 'তত', 'তথা', 'তবু', 'তবে', 'তা', 'তাঁকে', 'তাঁদের', 'তাঁর', 'তাঁরা', 'তাঁাহারা', 'তাই', 'তাও', 'তাকে', 'তাতে', 'তাদের', 'তার', 'তারপর', 'তারা', 'তারৈ', 'তাহলে', 'তাহা', 'তাহাতে', 'তাহার', 'তিনঐ', 'তিনি', 'তিনিও', 'তুমি', 'তুলে', 'তেমন', 'তো', 'তোমার', 'থাকবে', 'থাকবেন', 'থাকা', 'থাকায়', 'থাকে', 'থাকেন', 'থেকে', 'থেকেই', 'থেকেও', 'দিকে', 'দিতে', 'দিন', 'দিয়ে', 'দিয়েছে', 'দিয়েছেন', 'দিলেন', 'দু', 'দুই', 'দুটি', 'দুটো', 'দেওয়া', 'দেওয়ার', 'দেওয়া', 'দেখতে', 'দেখা', 'দেখে', 'দেন', 'দেয়', 'দ্বারা', 'ধরা', 'ধরে', 'ধামার', 'নতুন', 'নয়', 'না', 'নাই', 'নাকি', 'নাগাদ', 'নানা', 'নিজে', 'নিজেই', 'নিজেদের', 'নিজের', 'নিতে', 'নিয়ে', 'নিয়ে', 'নেই', 'নেওয়া', 'নেওয়ার', 'নেওয়া', 'নয়', 'পক্ষে', 'পর', 'পরে', 'পরেই', 'পরেও', 'পর্যন্ত', 'পাওয়া', 'পাচ', 'পারি', 'পারে', 'পারেন', 'পি', 'পেয়ে', 'পেয়্র্', 'প্রতি', 'প্রথম', 'প্রভৃতি', 'প্রযন্ত', 'প্রাথমিক', 'প্রায়', 'প্রায়', 'ফলে', 'ফিরে', 'ফের', 'বক্তব্য', 'বদলে', 'বন', 'বরং', 'বলতে', 'বলল', 'বললেন', 'বলা', 'বলে', 'বলেছেন', 'বলেন', 'বসে', 'বহু', 'বা', 'বাদে', 'বার', 'বি', 'বিনা', 'বিভিন্ন', 'বিশেষ', 'বিষয়টি', 'বেশ', 'বেশি', 'ব্যবহার', 'ব্যাপারে', 'ভাবে', 'ভাবেই', 'মতো', 'মতোই', 'মধ্যভাগে', 'মধ্যে', 'মধ্যেই', 'মধ্যেও', 'মনে', 'মাত্র', 'মাধ্যমে', 'মোট', 'মোটেই', 'যখন', 'যত', 'যতটা', 'যথেষ্ট', 'যদি', 'যদিও', 'যা', 'যাঁর', 'যাঁরা', 'যাওয়া', 'যাওয়ার', 'যাওয়া', 'যাকে', 'যাচ্ছে', 'যাতে', 'যাদের', 'যান', 'যাবে', 'যায়', 'যার', 'যারা', 'যিনি', 'যে', 'যেখানে', 'যেতে', 'যেন', 'যেমন', 'র', 'রকম', 'রয়েছে', 'রাখা', 'রেখে', 'লক্ষ', 'শুধু', 'শুরু', 'সঙ্গে', 'সঙ্গেও', 'সব', 'সবার', 'সমস্ত', 'সম্প্রতি', 'সহ', 'সহিত', 'সাধারণ', 'সামনে', 'সি', 'সুতরাং', 'সে', 'সেই', 'সেখান', 'সেখানে', 'সেটা', 'সেটাই', 'সেটাও', 'সেটি', 'স্পষ্ট', 'স্বয়ং', 'হইতে', 'হইবে', 'হইয়া', 'হওয়া', 'হওয়ায়', 'হওয়ার', 'হচ্ছে', 'হত', 'হতে', 'হতেই', 'হন', 'হবে', 'হবেন', 'হয়', 'হয়তো', 'হয়নি', 'হয়ে', 'হয়েই', 'হয়েছিল', 'হয়েছে', 'হয়েছেন', 'হল', 'হলে', 'হলেই', 'হলেও', 'হলো', 'হাজার', 'হিসাবে', 'হৈলে', 'হোক', 'হয়']\n"
     ]
    }
   ],
   "source": [
    "# Loading stop words file\n",
    "with open('/home/hasan/Desktop/Code to keep on Github/BERT Bengali News Classification/stopwords-bn.txt', 'r', encoding='utf-8-sig') as f:\n",
    "    stop_word = f.read()\n",
    "    stop_word = stop_word.replace(\" \", \"\")\n",
    "    stop_word = stop_word.split('\\n')\n",
    "    print(stop_word)\n",
    "    "
   ]
  },
  {
   "cell_type": "code",
   "execution_count": 10,
   "metadata": {},
   "outputs": [],
   "source": [
    "def clean_text(text):\n",
    "    row = str(text) \n",
    "    row = row.replace('\\n', \" \")\n",
    "    row = row.replace('\\t', \" \")\n",
    "    row = row.replace('\\\\', \"\")\n",
    "    row = re.sub('[!\"#$%&\\'()*+,-./:;<=>?@[\\\\]^_`{|}~]', '', row)\n",
    "    row = re.sub(' +', ' ', row)\n",
    "    row = row.replace(\"।\", \"\")\n",
    "    row = re.sub('[১২৩৪৫৬৭৮৯০]', '', row)\n",
    "    row = re.sub('[1234567890]', '', row) \n",
    "    row = row.replace('’', '')\n",
    "    row = row.replace('‘', '')\n",
    "    \n",
    "    # Removing stop words\n",
    "    row = row.split()\n",
    "    row = [w for w in row if not w in stop_word]\n",
    "    row = \" \".join(row)\n",
    "    return row \n"
   ]
  },
  {
   "cell_type": "code",
   "execution_count": 11,
   "metadata": {},
   "outputs": [],
   "source": [
    "data['content'] = data['content'].apply(lambda x:clean_text(x))\n",
    "data['category'] = data['category'].apply(lambda x:clean_text(x))"
   ]
  },
  {
   "cell_type": "code",
   "execution_count": null,
   "metadata": {},
   "outputs": [],
   "source": []
  },
  {
   "cell_type": "markdown",
   "metadata": {},
   "source": [
    "## Save Dataset"
   ]
  },
  {
   "cell_type": "code",
   "execution_count": 12,
   "metadata": {},
   "outputs": [],
   "source": [
    "data.to_csv(\"/home/hasan/Desktop/Code to keep on Github/BERT Bengali News Classification/clean_news_classification.csv\")\n"
   ]
  },
  {
   "cell_type": "code",
   "execution_count": null,
   "metadata": {},
   "outputs": [],
   "source": []
  }
 ],
 "metadata": {
  "kernelspec": {
   "display_name": "Python 3",
   "language": "python",
   "name": "python3"
  },
  "language_info": {
   "codemirror_mode": {
    "name": "ipython",
    "version": 3
   },
   "file_extension": ".py",
   "mimetype": "text/x-python",
   "name": "python",
   "nbconvert_exporter": "python",
   "pygments_lexer": "ipython3",
   "version": "3.8.2"
  }
 },
 "nbformat": 4,
 "nbformat_minor": 4
}
